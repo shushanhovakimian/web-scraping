{
 "cells": [
  {
   "cell_type": "markdown",
   "metadata": {
    "id": "dZE311OXyrsI"
   },
   "source": [
    "# **Web Scraing for Financial Data**\n",
    "\n",
    "\n"
   ]
  },
  {
   "cell_type": "markdown",
   "metadata": {
    "id": "jHIsYKWE6awt"
   },
   "source": [
    "### Web Scraping from Yahoo Finance\n",
    "\n",
    "https://finance.yahoo.com"
   ]
  },
  {
   "cell_type": "code",
   "execution_count": 78,
   "metadata": {
    "colab": {
     "base_uri": "https://localhost:8080/"
    },
    "executionInfo": {
     "elapsed": 41645,
     "status": "ok",
     "timestamp": 1630754158772,
     "user": {
      "displayName": "Elya Poghosyan",
      "photoUrl": "",
      "userId": "08478244552865830918"
     },
     "user_tz": -240
    },
    "id": "LVlJIzA0mDOg",
    "outputId": "1ed9de2b-213c-49da-d224-495d91d8c271"
   },
   "outputs": [],
   "source": [
    "from bs4 import BeautifulSoup\n",
    "import pandas as pd\n",
    "import requests\n",
    "import json\n",
    "import re"
   ]
  },
  {
   "cell_type": "code",
   "execution_count": 79,
   "metadata": {
    "id": "24t0Z0jx6_Zk"
   },
   "outputs": [],
   "source": [
    "# Let's get Income Statement for Microsoft Corporation\n",
    "index = 'AAPL'\n",
    "\n",
    "# URL links for Financial Statements\n",
    "url_is = 'https://finance.yahoo.com/quote/' + index + '/financials?p=' + index\n",
    "url_bs = 'https://finance.yahoo.com/quote/' + index +'/balance-sheet?p=' + index\n",
    "url_cf = 'https://finance.yahoo.com/quote/' + index + '/cash-flow?p='+ index"
   ]
  },
  {
   "cell_type": "code",
   "execution_count": 81,
   "metadata": {},
   "outputs": [],
   "source": [
    "headers = {\n",
    "        'User-Agent': 'Mozilla/5.0 (Windows NT 10.0; Win64; x64) AppleWebKit/537.36 (KHTML, like Gecko) Chrome/71.0.3578.98 Safari/537.36'}"
   ]
  },
  {
   "cell_type": "code",
   "execution_count": 82,
   "metadata": {},
   "outputs": [],
   "source": [
    "page = requests.get(url_is, headers = headers)\n",
    "soup = BeautifulSoup(page.text, \"html.parser\")"
   ]
  },
  {
   "cell_type": "code",
   "execution_count": 83,
   "metadata": {},
   "outputs": [],
   "source": [
    "pattern = re.compile(r'\\s--\\sData\\s--\\s')\n",
    "data1 = soup.find('script', text = pattern).contents[0]"
   ]
  },
  {
   "cell_type": "code",
   "execution_count": 84,
   "metadata": {},
   "outputs": [],
   "source": [
    "start = data1.find(\"context\")-2"
   ]
  },
  {
   "cell_type": "code",
   "execution_count": 85,
   "metadata": {},
   "outputs": [
    {
     "data": {
      "text/plain": [
       "dict_keys(['dispatcher', 'options', 'plugins'])"
      ]
     },
     "execution_count": 85,
     "metadata": {},
     "output_type": "execute_result"
    }
   ],
   "source": [
    "json_data = json.loads(data1[start:-12])\n",
    "json_data[\"context\"].keys()"
   ]
  },
  {
   "cell_type": "code",
   "execution_count": 86,
   "metadata": {},
   "outputs": [],
   "source": [
    "annual_is = json_data['context']['dispatcher']['stores']['QuoteSummaryStore']['incomeStatementHistory']['incomeStatementHistory']"
   ]
  },
  {
   "cell_type": "code",
   "execution_count": 87,
   "metadata": {},
   "outputs": [],
   "source": [
    "annual_is[0]\n",
    "annual_is_stmts = []\n",
    "\n",
    "# consolidate annual\n",
    "for s in annual_is:\n",
    "    statement = {}\n",
    "    for key, val in s.items():\n",
    "        try:\n",
    "            statement[key] = val['raw']\n",
    "        except TypeError:\n",
    "            continue\n",
    "        except KeyError:\n",
    "            continue\n",
    "    annual_is_stmts.append(statement)"
   ]
  },
  {
   "cell_type": "code",
   "execution_count": 88,
   "metadata": {},
   "outputs": [
    {
     "data": {
      "text/plain": [
       "[{'researchDevelopment': 26251000000,\n",
       "  'incomeBeforeTax': 119103000000,\n",
       "  'netIncome': 99803000000,\n",
       "  'sellingGeneralAdministrative': 25094000000,\n",
       "  'grossProfit': 170782000000,\n",
       "  'ebit': 119437000000,\n",
       "  'endDate': 1663977600,\n",
       "  'operatingIncome': 119437000000,\n",
       "  'interestExpense': -2931000000,\n",
       "  'incomeTaxExpense': 19300000000,\n",
       "  'totalRevenue': 394328000000,\n",
       "  'totalOperatingExpenses': 274891000000,\n",
       "  'costOfRevenue': 223546000000,\n",
       "  'totalOtherIncomeExpenseNet': -334000000,\n",
       "  'netIncomeFromContinuingOps': 99803000000,\n",
       "  'netIncomeApplicableToCommonShares': 99803000000},\n",
       " {'researchDevelopment': 21914000000,\n",
       "  'incomeBeforeTax': 109207000000,\n",
       "  'netIncome': 94680000000,\n",
       "  'sellingGeneralAdministrative': 21973000000,\n",
       "  'grossProfit': 152836000000,\n",
       "  'ebit': 108949000000,\n",
       "  'endDate': 1632528000,\n",
       "  'operatingIncome': 108949000000,\n",
       "  'interestExpense': -2645000000,\n",
       "  'incomeTaxExpense': 14527000000,\n",
       "  'totalRevenue': 365817000000,\n",
       "  'totalOperatingExpenses': 256868000000,\n",
       "  'costOfRevenue': 212981000000,\n",
       "  'totalOtherIncomeExpenseNet': 258000000,\n",
       "  'netIncomeFromContinuingOps': 94680000000,\n",
       "  'netIncomeApplicableToCommonShares': 94680000000},\n",
       " {'researchDevelopment': 18752000000,\n",
       "  'incomeBeforeTax': 67091000000,\n",
       "  'netIncome': 57411000000,\n",
       "  'sellingGeneralAdministrative': 19916000000,\n",
       "  'grossProfit': 104956000000,\n",
       "  'ebit': 66288000000,\n",
       "  'endDate': 1601078400,\n",
       "  'operatingIncome': 66288000000,\n",
       "  'interestExpense': -2873000000,\n",
       "  'incomeTaxExpense': 9680000000,\n",
       "  'totalRevenue': 274515000000,\n",
       "  'totalOperatingExpenses': 208227000000,\n",
       "  'costOfRevenue': 169559000000,\n",
       "  'totalOtherIncomeExpenseNet': 803000000,\n",
       "  'netIncomeFromContinuingOps': 57411000000,\n",
       "  'netIncomeApplicableToCommonShares': 57411000000},\n",
       " {'researchDevelopment': 16217000000,\n",
       "  'incomeBeforeTax': 65737000000,\n",
       "  'netIncome': 55256000000,\n",
       "  'sellingGeneralAdministrative': 18245000000,\n",
       "  'grossProfit': 98392000000,\n",
       "  'ebit': 63930000000,\n",
       "  'endDate': 1569628800,\n",
       "  'operatingIncome': 63930000000,\n",
       "  'interestExpense': -3576000000,\n",
       "  'incomeTaxExpense': 10481000000,\n",
       "  'totalRevenue': 260174000000,\n",
       "  'totalOperatingExpenses': 196244000000,\n",
       "  'costOfRevenue': 161782000000,\n",
       "  'totalOtherIncomeExpenseNet': 1807000000,\n",
       "  'netIncomeFromContinuingOps': 55256000000,\n",
       "  'netIncomeApplicableToCommonShares': 55256000000}]"
      ]
     },
     "execution_count": 88,
     "metadata": {},
     "output_type": "execute_result"
    }
   ],
   "source": [
    "annual_is_stmts"
   ]
  },
  {
   "cell_type": "code",
   "execution_count": 89,
   "metadata": {},
   "outputs": [
    {
     "data": {
      "text/html": [
       "<div>\n",
       "<style scoped>\n",
       "    .dataframe tbody tr th:only-of-type {\n",
       "        vertical-align: middle;\n",
       "    }\n",
       "\n",
       "    .dataframe tbody tr th {\n",
       "        vertical-align: top;\n",
       "    }\n",
       "\n",
       "    .dataframe thead th {\n",
       "        text-align: right;\n",
       "    }\n",
       "</style>\n",
       "<table border=\"1\" class=\"dataframe\">\n",
       "  <thead>\n",
       "    <tr style=\"text-align: right;\">\n",
       "      <th></th>\n",
       "      <th>researchDevelopment</th>\n",
       "      <th>incomeBeforeTax</th>\n",
       "      <th>netIncome</th>\n",
       "      <th>sellingGeneralAdministrative</th>\n",
       "      <th>grossProfit</th>\n",
       "      <th>ebit</th>\n",
       "      <th>endDate</th>\n",
       "      <th>operatingIncome</th>\n",
       "      <th>interestExpense</th>\n",
       "      <th>incomeTaxExpense</th>\n",
       "      <th>totalRevenue</th>\n",
       "      <th>totalOperatingExpenses</th>\n",
       "      <th>costOfRevenue</th>\n",
       "      <th>totalOtherIncomeExpenseNet</th>\n",
       "      <th>netIncomeFromContinuingOps</th>\n",
       "      <th>netIncomeApplicableToCommonShares</th>\n",
       "    </tr>\n",
       "  </thead>\n",
       "  <tbody>\n",
       "    <tr>\n",
       "      <th>0</th>\n",
       "      <td>26251000000</td>\n",
       "      <td>119103000000</td>\n",
       "      <td>99803000000</td>\n",
       "      <td>25094000000</td>\n",
       "      <td>170782000000</td>\n",
       "      <td>119437000000</td>\n",
       "      <td>1663977600</td>\n",
       "      <td>119437000000</td>\n",
       "      <td>-2931000000</td>\n",
       "      <td>19300000000</td>\n",
       "      <td>394328000000</td>\n",
       "      <td>274891000000</td>\n",
       "      <td>223546000000</td>\n",
       "      <td>-334000000</td>\n",
       "      <td>99803000000</td>\n",
       "      <td>99803000000</td>\n",
       "    </tr>\n",
       "    <tr>\n",
       "      <th>1</th>\n",
       "      <td>21914000000</td>\n",
       "      <td>109207000000</td>\n",
       "      <td>94680000000</td>\n",
       "      <td>21973000000</td>\n",
       "      <td>152836000000</td>\n",
       "      <td>108949000000</td>\n",
       "      <td>1632528000</td>\n",
       "      <td>108949000000</td>\n",
       "      <td>-2645000000</td>\n",
       "      <td>14527000000</td>\n",
       "      <td>365817000000</td>\n",
       "      <td>256868000000</td>\n",
       "      <td>212981000000</td>\n",
       "      <td>258000000</td>\n",
       "      <td>94680000000</td>\n",
       "      <td>94680000000</td>\n",
       "    </tr>\n",
       "    <tr>\n",
       "      <th>2</th>\n",
       "      <td>18752000000</td>\n",
       "      <td>67091000000</td>\n",
       "      <td>57411000000</td>\n",
       "      <td>19916000000</td>\n",
       "      <td>104956000000</td>\n",
       "      <td>66288000000</td>\n",
       "      <td>1601078400</td>\n",
       "      <td>66288000000</td>\n",
       "      <td>-2873000000</td>\n",
       "      <td>9680000000</td>\n",
       "      <td>274515000000</td>\n",
       "      <td>208227000000</td>\n",
       "      <td>169559000000</td>\n",
       "      <td>803000000</td>\n",
       "      <td>57411000000</td>\n",
       "      <td>57411000000</td>\n",
       "    </tr>\n",
       "    <tr>\n",
       "      <th>3</th>\n",
       "      <td>16217000000</td>\n",
       "      <td>65737000000</td>\n",
       "      <td>55256000000</td>\n",
       "      <td>18245000000</td>\n",
       "      <td>98392000000</td>\n",
       "      <td>63930000000</td>\n",
       "      <td>1569628800</td>\n",
       "      <td>63930000000</td>\n",
       "      <td>-3576000000</td>\n",
       "      <td>10481000000</td>\n",
       "      <td>260174000000</td>\n",
       "      <td>196244000000</td>\n",
       "      <td>161782000000</td>\n",
       "      <td>1807000000</td>\n",
       "      <td>55256000000</td>\n",
       "      <td>55256000000</td>\n",
       "    </tr>\n",
       "  </tbody>\n",
       "</table>\n",
       "</div>"
      ],
      "text/plain": [
       "   researchDevelopment  incomeBeforeTax    netIncome  \\\n",
       "0          26251000000     119103000000  99803000000   \n",
       "1          21914000000     109207000000  94680000000   \n",
       "2          18752000000      67091000000  57411000000   \n",
       "3          16217000000      65737000000  55256000000   \n",
       "\n",
       "   sellingGeneralAdministrative   grossProfit          ebit     endDate  \\\n",
       "0                   25094000000  170782000000  119437000000  1663977600   \n",
       "1                   21973000000  152836000000  108949000000  1632528000   \n",
       "2                   19916000000  104956000000   66288000000  1601078400   \n",
       "3                   18245000000   98392000000   63930000000  1569628800   \n",
       "\n",
       "   operatingIncome  interestExpense  incomeTaxExpense  totalRevenue  \\\n",
       "0     119437000000      -2931000000       19300000000  394328000000   \n",
       "1     108949000000      -2645000000       14527000000  365817000000   \n",
       "2      66288000000      -2873000000        9680000000  274515000000   \n",
       "3      63930000000      -3576000000       10481000000  260174000000   \n",
       "\n",
       "   totalOperatingExpenses  costOfRevenue  totalOtherIncomeExpenseNet  \\\n",
       "0            274891000000   223546000000                  -334000000   \n",
       "1            256868000000   212981000000                   258000000   \n",
       "2            208227000000   169559000000                   803000000   \n",
       "3            196244000000   161782000000                  1807000000   \n",
       "\n",
       "   netIncomeFromContinuingOps  netIncomeApplicableToCommonShares  \n",
       "0                 99803000000                        99803000000  \n",
       "1                 94680000000                        94680000000  \n",
       "2                 57411000000                        57411000000  \n",
       "3                 55256000000                        55256000000  "
      ]
     },
     "execution_count": 89,
     "metadata": {},
     "output_type": "execute_result"
    }
   ],
   "source": [
    "df = pd.DataFrame(annual_is_stmts)\n",
    "df"
   ]
  },
  {
   "cell_type": "code",
   "execution_count": null,
   "metadata": {},
   "outputs": [],
   "source": []
  }
 ],
 "metadata": {
  "colab": {
   "authorship_tag": "ABX9TyMsAUOJcPuvo67PCCn9ZDot",
   "name": "W1-Scraping.ipynb",
   "provenance": []
  },
  "kernelspec": {
   "display_name": "Python 3",
   "language": "python",
   "name": "python3"
  },
  "language_info": {
   "codemirror_mode": {
    "name": "ipython",
    "version": 3
   },
   "file_extension": ".py",
   "mimetype": "text/x-python",
   "name": "python",
   "nbconvert_exporter": "python",
   "pygments_lexer": "ipython3",
   "version": "3.9.0"
  }
 },
 "nbformat": 4,
 "nbformat_minor": 1
}
